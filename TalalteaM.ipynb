{
  "nbformat": 4,
  "nbformat_minor": 0,
  "metadata": {
    "colab": {
      "provenance": [],
      "gpuType": "T4",
      "include_colab_link": true
    },
    "kernelspec": {
      "name": "python3",
      "display_name": "Python 3"
    },
    "language_info": {
      "name": "python"
    },
    "accelerator": "GPU"
  },
  "cells": [
    {
      "cell_type": "markdown",
      "metadata": {
        "id": "view-in-github",
        "colab_type": "text"
      },
      "source": [
        "<a href=\"https://colab.research.google.com/github/talal1123/TaLalteaM/blob/main/TalalteaM.ipynb\" target=\"_parent\"><img src=\"https://colab.research.google.com/assets/colab-badge.svg\" alt=\"Open In Colab\"/></a>"
      ]
    },
    {
      "cell_type": "markdown",
      "source": [
        "# New Section"
      ],
      "metadata": {
        "id": "mISlxReBmK3e"
      }
    },
    {
      "cell_type": "code",
      "source": [
        "!apt-get install  libgmp3-dev\n",
        "!git clone https://github.com/talal1123/TaLalteaM.git\n",
        "%cd /content/TaLalteaM/KeyHunt-Cuda\n",
        "\n"
      ],
      "metadata": {
        "colab": {
          "base_uri": "https://localhost:8080/"
        },
        "id": "-LLsYSUgmLYX",
        "outputId": "c946c625-feb6-4c0a-a22b-73e5dfecc6a4"
      },
      "execution_count": 1,
      "outputs": [
        {
          "output_type": "stream",
          "name": "stdout",
          "text": [
            "Reading package lists... Done\n",
            "Building dependency tree... Done\n",
            "Reading state information... Done\n",
            "The following additional packages will be installed:\n",
            "  libgmp-dev libgmpxx4ldbl\n",
            "Suggested packages:\n",
            "  gmp-doc libgmp10-doc libmpfr-dev\n",
            "The following NEW packages will be installed:\n",
            "  libgmp-dev libgmp3-dev libgmpxx4ldbl\n",
            "0 upgraded, 3 newly installed, 0 to remove and 39 not upgraded.\n",
            "Need to get 348 kB of archives.\n",
            "After this operation, 1,725 kB of additional disk space will be used.\n",
            "Get:1 http://archive.ubuntu.com/ubuntu jammy/main amd64 libgmpxx4ldbl amd64 2:6.2.1+dfsg-3ubuntu1 [9,580 B]\n",
            "Get:2 http://archive.ubuntu.com/ubuntu jammy/main amd64 libgmp-dev amd64 2:6.2.1+dfsg-3ubuntu1 [337 kB]\n",
            "Get:3 http://archive.ubuntu.com/ubuntu jammy/main amd64 libgmp3-dev amd64 2:6.2.1+dfsg-3ubuntu1 [1,818 B]\n",
            "Fetched 348 kB in 1s (339 kB/s)\n",
            "Selecting previously unselected package libgmpxx4ldbl:amd64.\n",
            "(Reading database ... 121753 files and directories currently installed.)\n",
            "Preparing to unpack .../libgmpxx4ldbl_2%3a6.2.1+dfsg-3ubuntu1_amd64.deb ...\n",
            "Unpacking libgmpxx4ldbl:amd64 (2:6.2.1+dfsg-3ubuntu1) ...\n",
            "Selecting previously unselected package libgmp-dev:amd64.\n",
            "Preparing to unpack .../libgmp-dev_2%3a6.2.1+dfsg-3ubuntu1_amd64.deb ...\n",
            "Unpacking libgmp-dev:amd64 (2:6.2.1+dfsg-3ubuntu1) ...\n",
            "Selecting previously unselected package libgmp3-dev:amd64.\n",
            "Preparing to unpack .../libgmp3-dev_2%3a6.2.1+dfsg-3ubuntu1_amd64.deb ...\n",
            "Unpacking libgmp3-dev:amd64 (2:6.2.1+dfsg-3ubuntu1) ...\n",
            "Setting up libgmpxx4ldbl:amd64 (2:6.2.1+dfsg-3ubuntu1) ...\n",
            "Setting up libgmp-dev:amd64 (2:6.2.1+dfsg-3ubuntu1) ...\n",
            "Setting up libgmp3-dev:amd64 (2:6.2.1+dfsg-3ubuntu1) ...\n",
            "Processing triggers for libc-bin (2.35-0ubuntu3.4) ...\n",
            "/sbin/ldconfig.real: /usr/local/lib/libtbbbind_2_5.so.3 is not a symbolic link\n",
            "\n",
            "/sbin/ldconfig.real: /usr/local/lib/libtbbmalloc_proxy.so.2 is not a symbolic link\n",
            "\n",
            "/sbin/ldconfig.real: /usr/local/lib/libtbbmalloc.so.2 is not a symbolic link\n",
            "\n",
            "/sbin/ldconfig.real: /usr/local/lib/libtbbbind.so.3 is not a symbolic link\n",
            "\n",
            "/sbin/ldconfig.real: /usr/local/lib/libtbb.so.12 is not a symbolic link\n",
            "\n",
            "/sbin/ldconfig.real: /usr/local/lib/libtbbbind_2_0.so.3 is not a symbolic link\n",
            "\n",
            "Cloning into 'TaLalteaM'...\n",
            "remote: Enumerating objects: 617, done.\u001b[K\n",
            "remote: Counting objects: 100% (84/84), done.\u001b[K\n",
            "remote: Compressing objects: 100% (61/61), done.\u001b[K\n",
            "remote: Total 617 (delta 53), reused 21 (delta 21), pack-reused 533\u001b[K\n",
            "Receiving objects: 100% (617/617), 26.94 MiB | 10.32 MiB/s, done.\n",
            "Resolving deltas: 100% (347/347), done.\n",
            "/content/TaLalteaM/KeyHunt-Cuda\n"
          ]
        }
      ]
    },
    {
      "cell_type": "code",
      "source": [
        "!make gpu=1 CCAP=75 all"
      ],
      "metadata": {
        "id": "ITxiw1YDmMU7",
        "colab": {
          "base_uri": "https://localhost:8080/"
        },
        "outputId": "414a7b85-051d-47a7-8e65-41afa7596bcb"
      },
      "execution_count": 9,
      "outputs": [
        {
          "output_type": "stream",
          "name": "stdout",
          "text": [
            "cd obj &&\tmkdir -p GPU\n",
            "cd obj &&\tmkdir -p hash\n"
          ]
        }
      ]
    },
    {
      "cell_type": "code",
      "source": [
        "!./KeyHunt -t 0 -g --gpui 0 --gpux 512,256 -m address --coin BTC --range 1a838b13505b26867:1a838b13515b26867  18ZMbwUFLMHoZBbfpCjUJQTCMCbktshgpe\n",
        "\n"
      ],
      "metadata": {
        "colab": {
          "base_uri": "https://localhost:8080/"
        },
        "id": "SyLFtDDgAaUm",
        "outputId": "5233bd49-3ca5-45bd-e38e-92603f938111"
      },
      "execution_count": 10,
      "outputs": [
        {
          "output_type": "stream",
          "name": "stdout",
          "text": [
            "\n",
            "KeyHunt-Cuda v1.07\n",
            "\n",
            "COMP MODE    : COMPRESSED\n",
            "COIN TYPE    : BITCOIN\n",
            "SEARCH MODE  : Single Address\n",
            "DEVICE       : GPU\n",
            "CPU THREAD   : 0\n",
            "GPU IDS      : 0\n",
            "GPU GRIDSIZE : 512x256\n",
            "SSE          : YES\n",
            "RKEY         : 0 Mkeys\n",
            "MAX FOUND    : 65536\n",
            "BTC ADDRESS  : 18ZMbwUFLMHoZBbfpCjUJQTCMCbktshgpe\n",
            "OUTPUT FILE  : Found.txt\n",
            "\n",
            "Start Time   : Thu Mar 28 21:42:25 2024\n",
            "Global start : 1A838B13505B26867 (65 bit)\n",
            "Global end   : 1A838B13515B26867 (65 bit)\n",
            "Global range : 10000000 (29 bit)\n",
            "\n",
            "GPU          : GPU #0 Tesla T4 (40x64 cores) Grid(512x256)\n",
            "\n",
            "\n",
            "=================================================================================\n",
            "Warning, wrong private key generated !\n",
            "  PivK :1A838B13505B26867\n",
            "  Addr :18ZMbwUFLMHoZBbfpCjUJQTCMCbkpeK3Yd\n",
            "  PubX :30210C23B1A047BC9BDBB13448E67DEDDC108946DE6DE639BCC75D47C0216B1B\n",
            "  PivK :FFFFFFFFFFFFFFFFFFFFFFFFFFFFFFFEBAAEDCE6AF48A03A1799AD57CA83D8DA\n",
            "  Check:12daCQ1MC2tb1ePP8gh7p7RBVaiLMoC7S9\n",
            "  PubX :30210C23B1A047BC9BDBB13448E67DEDDC108946DE6DE639BCC75D47C0216B1B\n",
            "=================================================================================\n",
            "[00:00:02] [CPU+GPU: 670.97 Mk/s] [GPU: 670.97 Mk/s] [C: 500.000000 %] [R: 0] [T: 1,342,177,280 (31 bit)] [F: 0]  "
          ]
        }
      ]
    }
  ]
}